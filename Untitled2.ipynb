{
 "cells": [
  {
   "cell_type": "code",
   "execution_count": null,
   "metadata": {},
   "outputs": [],
   "source": [
    "def is_pali(str):\n",
    "    i=0\n",
    "    j=len(str)-1\n",
    "    while(i<j):\n",
    "        if(str[i]==str[j]):\n",
    "            i=i+1\n",
    "            j=j-1\n",
    "        else:\n",
    "            return False\n",
    "        return True\n",
    "str=input(\"enter string to check palindrom\")\n",
    "if(is_pali(str)):\n",
    "    print(\"palindrome\")\n",
    "else:\n",
    "    print(\"not palindrome\")"
   ]
  },
  {
   "cell_type": "code",
   "execution_count": null,
   "metadata": {},
   "outputs": [],
   "source": [
    "def is_pali(word):\n",
    "    if(len(word)<2 and word[0]==word[-1]):\n",
    "        return True\n",
    "    elif(word[0]==word[-1]):\n",
    "        is_pali(word[1:-1])\n",
    "    else:\n",
    "        return False\n",
    "str=input(\"enter string to check palindrom\")\n",
    "if(is_pali(str)):\n",
    "    print(\"palindrome\")\n",
    "else:\n",
    "    print(\"not palindrome\")"
   ]
  },
  {
   "cell_type": "code",
   "execution_count": null,
   "metadata": {},
   "outputs": [],
   "source": [
    "print(\"palindrome\")"
   ]
  },
  {
   "cell_type": "code",
   "execution_count": null,
   "metadata": {},
   "outputs": [],
   "source": []
  },
  {
   "cell_type": "code",
   "execution_count": null,
   "metadata": {},
   "outputs": [],
   "source": []
  },
  {
   "cell_type": "code",
   "execution_count": null,
   "metadata": {},
   "outputs": [],
   "source": []
  }
 ],
 "metadata": {
  "kernelspec": {
   "display_name": "Python 3",
   "language": "python",
   "name": "python3"
  },
  "language_info": {
   "codemirror_mode": {
    "name": "ipython",
    "version": 3
   },
   "file_extension": ".py",
   "mimetype": "text/x-python",
   "name": "python",
   "nbconvert_exporter": "python",
   "pygments_lexer": "ipython3",
   "version": "3.6.5"
  }
 },
 "nbformat": 4,
 "nbformat_minor": 2
}
